{
 "cells": [
  {
   "cell_type": "code",
   "execution_count": 1,
   "metadata": {},
   "outputs": [
    {
     "name": "stdout",
     "output_type": "stream",
     "text": [
      "B\n"
     ]
    }
   ],
   "source": [
    "English= 85 #out of 100\n",
    "Maths= 70\n",
    "Science= 65\n",
    "Urdu= 56\n",
    "Islamiat=45\n",
    "Total_marks= 500\n",
    "Obtain_marks= English+Maths+Science+Urdu+Islamiat \n",
    "Per= Obtain_marks/Total_marks*100\n",
    "if Per >= 80 and Per<100 :\n",
    " print(\"A+\")\n",
    "elif Per >=70 and Per <80 :\n",
    " print(\"A\")\n",
    "elif Per >=60 and Per <70 :\n",
    " print(\"B\")\n",
    "elif Per >=50 and Per <60 :\n",
    " print(\"C\")\n",
    "elif Per >=40 and Per <50 :\n",
    " print(\"D\")\n",
    "elif Per <40 :\n",
    " print(\"Fail\")\n",
    "else :\n",
    " print(\"Inapproperiate\")\n",
    " "
   ]
  },
  {
   "cell_type": "code",
   "execution_count": 2,
   "metadata": {},
   "outputs": [
    {
     "name": "stdout",
     "output_type": "stream",
     "text": [
      "Enter your Num56\n",
      "Even\n"
     ]
    }
   ],
   "source": [
    "Num= int(input(\"Enter your Num\"))\n",
    "if Num%2 == 0 :\n",
    " print(\"Even\")\n",
    "else :\n",
    " print(\"Odd\")"
   ]
  },
  {
   "cell_type": "code",
   "execution_count": 3,
   "metadata": {},
   "outputs": [
    {
     "name": "stdout",
     "output_type": "stream",
     "text": [
      "Enter your Num55\n",
      "Odd\n"
     ]
    }
   ],
   "source": [
    "Num= int(input(\"Enter your Num\"))\n",
    "if Num%2 == 0 :\n",
    " print(\"Even\")\n",
    "else :\n",
    " print(\"Odd\")"
   ]
  },
  {
   "cell_type": "code",
   "execution_count": 4,
   "metadata": {},
   "outputs": [
    {
     "name": "stdout",
     "output_type": "stream",
     "text": [
      "The length of list is:  6\n"
     ]
    }
   ],
   "source": [
    "Y= [1,3,6,9,133,16]\n",
    "Y= len([1,3,6,9,133,16])\n",
    "print(\"The length of list is: \", Y)"
   ]
  },
  {
   "cell_type": "code",
   "execution_count": 5,
   "metadata": {},
   "outputs": [
    {
     "name": "stdout",
     "output_type": "stream",
     "text": [
      "Largest element is: 133\n"
     ]
    }
   ],
   "source": [
    "Y= [1,3,6,9,133,16]\n",
    "Y.sort()\n",
    "print(\"Largest element is:\", Y[-1])"
   ]
  },
  {
   "cell_type": "code",
   "execution_count": 6,
   "metadata": {},
   "outputs": [
    {
     "name": "stdout",
     "output_type": "stream",
     "text": [
      "How many numbers: 5\n",
      "Enter number 6\n",
      "Enter number 7\n",
      "Enter number 4\n",
      "Enter number 12\n",
      "Enter number 6\n",
      "Sum of elements in given list is : 35\n"
     ]
    }
   ],
   "source": [
    "List = []\n",
    "num = int(input('How many numbers: '))\n",
    "for n in range(num):\n",
    "    numbers = int(input('Enter number '))\n",
    "    List.append(numbers)\n",
    "print(\"Sum of elements in given list is :\", sum(List))"
   ]
  },
  {
   "cell_type": "code",
   "execution_count": 7,
   "metadata": {},
   "outputs": [
    {
     "name": "stdout",
     "output_type": "stream",
     "text": [
      "Choose a number: 5\n",
      "[1, 1, 2, 3]\n"
     ]
    }
   ],
   "source": [
    "a = [1, 1, 2, 3, 5, 8, 13, 21, 34, 55, 89]\n",
    "num = int(input(\"Choose a number: \"))\n",
    "new_list = []\n",
    "for i in a:\n",
    "    if i < num:\n",
    "        new_list.append(i)\n",
    "print(new_list)"
   ]
  },
  {
   "cell_type": "code",
   "execution_count": null,
   "metadata": {},
   "outputs": [],
   "source": []
  }
 ],
 "metadata": {
  "kernelspec": {
   "display_name": "Python 3",
   "language": "python",
   "name": "python3"
  },
  "language_info": {
   "codemirror_mode": {
    "name": "ipython",
    "version": 3
   },
   "file_extension": ".py",
   "mimetype": "text/x-python",
   "name": "python",
   "nbconvert_exporter": "python",
   "pygments_lexer": "ipython3",
   "version": "3.7.4"
  }
 },
 "nbformat": 4,
 "nbformat_minor": 2
}
