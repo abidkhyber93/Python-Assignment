{
 "cells": [
  {
   "cell_type": "code",
   "execution_count": null,
   "metadata": {},
   "outputs": [],
   "source": [
    "'''\n",
    "Question 1:\n",
    "Define Object Oriented Programming Language?\n",
    "\n",
    "Object-oriented programming is a type of computer programming in which programmers define the types of operations \n",
    "that can be applied to the data structure with the data type of a data structure.\n",
    "\n",
    "'''"
   ]
  },
  {
   "cell_type": "code",
   "execution_count": null,
   "metadata": {},
   "outputs": [],
   "source": [
    "'''\n",
    "Question 2: \n",
    "List down the Benefits of OOP?\n",
    "\n",
    "1.\tIt offers easy to understand and a clear modular structure for programs.\n",
    "2.\tObjects created for Object-Oriented Programs can be reused in other programs. \n",
    "Thus it saves significant development cost.\n",
    "3.\tLarge programs are difficult to write, \n",
    "but if the development and designing team follow OOPS concept then they can better design with minimum flaws.\n",
    "4.\tIt also enhances program modularity because every object exists independently.\n",
    "\n",
    "'''"
   ]
  },
  {
   "cell_type": "code",
   "execution_count": null,
   "metadata": {},
   "outputs": [],
   "source": [
    "'''\n",
    "Question 3: \n",
    "Differentiate between function and method?\n",
    "\n",
    "1.\tMethod is a segment occurring as a series of statements and is executed upon initiation of arguments in the method.\n",
    "2.\tThe existence of functions is independent, while methods do not have an independent existence.\n",
    "\n",
    "'''"
   ]
  },
  {
   "cell_type": "code",
   "execution_count": null,
   "metadata": {},
   "outputs": [],
   "source": [
    "'''\n",
    "Question 4: \n",
    "Define the following terms: \n",
    "1. Class \n",
    "2. Object \n",
    "3. Attribute \n",
    "4. Behavior \n",
    "\n",
    "1.\tClass:\n",
    "In object-oriented programming, a class is a blueprint for creating objects, providing initial values for state,\n",
    "and implementations of behavior. The user-defined objects are created using the class keyword.\n",
    "\n",
    "2.\tObject:\n",
    "Objects have states and behaviors. For example a dog has states, color, name, breed as well as behaviors.\n",
    "\n",
    "3.\tAttribute:\n",
    "Attributes are data stored inside a class or instance and represent the state or quality of the class or instance.\n",
    "\n",
    "4.\tBehavior :\n",
    "The behavior of an object is defined by its methods, \n",
    "which are the functions and subroutines defined within the object class. Without class methods, \n",
    "a class would simply be a structure. Methods determine what type of functionality a class has, how it modifies its data,\n",
    "and its overall behavior.\n",
    "\n",
    "'''\n"
   ]
  },
  {
   "cell_type": "code",
   "execution_count": 23,
   "metadata": {},
   "outputs": [
    {
     "name": "stdout",
     "output_type": "stream",
     "text": [
      "Car:1\n",
      "Company: Honda\n",
      "Model: Honda City\n",
      "Color: Black\n",
      "Engine: Inline 2-cylinder\n",
      "Price: 1200000\n",
      "\n",
      "\n",
      "Car:2\n",
      "Company: Corola\n",
      "Model: 2019 Toyota Corolla\n",
      "Color: White\n",
      "Engine: 1.8-liter 4-cylinder\n",
      "Price: 1500000\n",
      "\n",
      "\n",
      "Car:3\n",
      "Company: Suzuki\n",
      "Model: 2019 Suzuki\n",
      "Color: Red\n",
      "Engine: Suzuki T5/LJ50 engine\n",
      "Price: 1400000\n"
     ]
    }
   ],
   "source": [
    "'''\n",
    "Question 5:\n",
    "Write a code in python in which create a class named it Car which\n",
    "have 5 attributes such like (model, color and name etc.) and 3\n",
    "methods. And create 5 object instance from that class.\n",
    "'''\n",
    "\n",
    "class  Car():\n",
    "    def __init__(self,company,model,color,engine,price):\n",
    "        self.company = company\n",
    "        self.model= model\n",
    "        self.color = color\n",
    "        self.engine= engine\n",
    "        self.price= price\n",
    "        \n",
    "car1= Car('Honda', 'Honda City', 'Black', 'Inline 2-cylinder', 1200000)\n",
    "print('Car:1')\n",
    "print('Company:', car1.company)\n",
    "print('Model:',car1.model)\n",
    "print('Color:', car1.color)\n",
    "print('Engine:',car1.engine)\n",
    "print('Price:', car1.price)\n",
    "print('\\n')\n",
    "\n",
    "car2= Car('Corola', '2019 Toyota Corolla', 'White', '1.8-liter 4-cylinder', 1500000)\n",
    "print('Car:2')\n",
    "print('Company:', car2.company)\n",
    "print('Model:',car2.model)\n",
    "print('Color:', car2.color)\n",
    "print('Engine:',car2.engine)\n",
    "print('Price:', car2.price)\n",
    "print('\\n')\n",
    "\n",
    "car3= Car('Suzuki', '2019 Suzuki', 'Red', 'Suzuki T5/LJ50 engine', 1400000)\n",
    "print('Car:3')\n",
    "print('Company:', car3.company)\n",
    "print('Model:',car3.model)\n",
    "print('Color:', car3.color)\n",
    "print('Engine:',car3.engine)\n",
    "print('Price:', car3.price)"
   ]
  },
  {
   "cell_type": "code",
   "execution_count": null,
   "metadata": {},
   "outputs": [],
   "source": []
  },
  {
   "cell_type": "code",
   "execution_count": null,
   "metadata": {},
   "outputs": [],
   "source": []
  }
 ],
 "metadata": {
  "kernelspec": {
   "display_name": "Python 3",
   "language": "python",
   "name": "python3"
  },
  "language_info": {
   "codemirror_mode": {
    "name": "ipython",
    "version": 3
   },
   "file_extension": ".py",
   "mimetype": "text/x-python",
   "name": "python",
   "nbconvert_exporter": "python",
   "pygments_lexer": "ipython3",
   "version": "3.7.4"
  }
 },
 "nbformat": 4,
 "nbformat_minor": 2
}
