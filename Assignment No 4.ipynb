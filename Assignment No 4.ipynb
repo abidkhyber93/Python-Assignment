{
 "cells": [
  {
   "cell_type": "code",
   "execution_count": 6,
   "metadata": {},
   "outputs": [
    {
     "data": {
      "text/plain": [
       "'Muhammad'"
      ]
     },
     "execution_count": 6,
     "metadata": {},
     "output_type": "execute_result"
    }
   ],
   "source": [
    "'''\n",
    "Question1:\n",
    "Use a dictionary to store information about a person you know. Store their first name, last name, age,\n",
    "and the city in which they live. You should have keys such as first_name, last_name, age, and city. Print\n",
    "each piece of information stored in your dictionary. Add a new key value pair about qualification then\n",
    "update the qualification value to high academic level then delete it.\n",
    "'''\n",
    "\n",
    "person_123 = {\n",
    "    \"first name\": \"Muhammad\", \n",
    "    \"last name\": \"Abid\",\n",
    "    \"age\" : \"24\",\n",
    "    \"city\": \"Karachi\"}\n",
    "person_123[\"first name\"]"
   ]
  },
  {
   "cell_type": "code",
   "execution_count": 7,
   "metadata": {},
   "outputs": [
    {
     "data": {
      "text/plain": [
       "'Abid'"
      ]
     },
     "execution_count": 7,
     "metadata": {},
     "output_type": "execute_result"
    }
   ],
   "source": [
    "person_123[\"last name\"]"
   ]
  },
  {
   "cell_type": "code",
   "execution_count": 13,
   "metadata": {},
   "outputs": [
    {
     "data": {
      "text/plain": [
       "'24'"
      ]
     },
     "execution_count": 13,
     "metadata": {},
     "output_type": "execute_result"
    }
   ],
   "source": [
    "person_123[\"age\"]"
   ]
  },
  {
   "cell_type": "code",
   "execution_count": 14,
   "metadata": {},
   "outputs": [
    {
     "data": {
      "text/plain": [
       "'Karachi'"
      ]
     },
     "execution_count": 14,
     "metadata": {},
     "output_type": "execute_result"
    }
   ],
   "source": [
    "person_123[\"city\"]"
   ]
  },
  {
   "cell_type": "code",
   "execution_count": 15,
   "metadata": {},
   "outputs": [
    {
     "name": "stdout",
     "output_type": "stream",
     "text": [
      "{'first name': 'Muhammad', 'last name': 'Abid', 'age': '24', 'city': 'Karachi', 'Qualification': 'Bachelors'}\n"
     ]
    }
   ],
   "source": [
    "person_123[\"Qualification\"] = \"Bachelors\"\n",
    "print(person_123)"
   ]
  },
  {
   "cell_type": "code",
   "execution_count": 16,
   "metadata": {},
   "outputs": [
    {
     "name": "stdout",
     "output_type": "stream",
     "text": [
      "{'first name': 'Muhammad', 'last name': 'Abid', 'age': '24', 'city': 'Karachi', 'Qualification': 'Bachelors', 'high academic level': 'Bachelors'}\n"
     ]
    }
   ],
   "source": [
    "person_123[\"high academic level\"] = \"Bachelors\"\n",
    "print(person_123)"
   ]
  },
  {
   "cell_type": "code",
   "execution_count": 17,
   "metadata": {},
   "outputs": [
    {
     "name": "stdout",
     "output_type": "stream",
     "text": [
      "{'first name': 'Muhammad', 'last name': 'Abid', 'age': '24', 'city': 'Karachi', 'Qualification': 'Bachelors'}\n"
     ]
    }
   ],
   "source": [
    "del person_123[\"high academic level\"]\n",
    "print(person_123)"
   ]
  },
  {
   "cell_type": "code",
   "execution_count": 18,
   "metadata": {},
   "outputs": [
    {
     "name": "stdout",
     "output_type": "stream",
     "text": [
      "{'Washington': 'Countrtry: US, Populatin: 7.536 million (2018), Fact: Its capital is Olympia', 'Biejing': 'Countrtry: China, Populatin: 21.54 million (2018), Fact: It is the capital of China', 'Islamabad': 'Countrtry: Pakistan, Populatin: 1.015 million (2017), Fact: It is the capital of Pakistan'}\n"
     ]
    }
   ],
   "source": [
    "'''\n",
    "Question2:\n",
    "Make a dictionary called cities. Use the names of three cities as keys in your dictionary. Create a\n",
    "dictionary of information about each city and include the country that the city is in, its approximate\n",
    "population, and one fact about that city. The keys for each city’s dictionary should be something like\n",
    "country, population, and fact. Print the name of each city and all of the information you have stored\n",
    "about it.\n",
    "'''\n",
    "Cities = {\n",
    "    \"Washington\" : \"Countrtry: US, Populatin: 7.536 million (2018), Fact: Its capital is Olympia\",\n",
    "    \"Biejing\" : \"Countrtry: China, Populatin: 21.54 million (2018), Fact: It is the capital of China\", \n",
    "    \"Islamabad\" : \"Countrtry: Pakistan, Populatin: 1.015 million (2017), Fact: It is the capital of Pakistan\"   \n",
    "}\n",
    "print(Cities)"
   ]
  },
  {
   "cell_type": "code",
   "execution_count": 19,
   "metadata": {},
   "outputs": [
    {
     "name": "stdout",
     "output_type": "stream",
     "text": [
      "Washington\n",
      "Biejing\n",
      "Islamabad\n"
     ]
    }
   ],
   "source": [
    "for each_value in Cities.keys():\n",
    "    print(each_value)"
   ]
  },
  {
   "cell_type": "code",
   "execution_count": 20,
   "metadata": {},
   "outputs": [
    {
     "data": {
      "text/plain": [
       "'Countrtry: US, Populatin: 7.536 million (2018), Fact: Its capital is Olympia'"
      ]
     },
     "execution_count": 20,
     "metadata": {},
     "output_type": "execute_result"
    }
   ],
   "source": [
    "Cities[\"Washington\"]"
   ]
  },
  {
   "cell_type": "code",
   "execution_count": 21,
   "metadata": {},
   "outputs": [
    {
     "data": {
      "text/plain": [
       "'Countrtry: China, Populatin: 21.54 million (2018), Fact: It is the capital of China'"
      ]
     },
     "execution_count": 21,
     "metadata": {},
     "output_type": "execute_result"
    }
   ],
   "source": [
    "Cities[\"Biejing\"]"
   ]
  },
  {
   "cell_type": "code",
   "execution_count": 22,
   "metadata": {},
   "outputs": [
    {
     "data": {
      "text/plain": [
       "'Countrtry: Pakistan, Populatin: 1.015 million (2017), Fact: It is the capital of Pakistan'"
      ]
     },
     "execution_count": 22,
     "metadata": {},
     "output_type": "execute_result"
    }
   ],
   "source": [
    "Cities[\"Islamabad\"]"
   ]
  },
  {
   "cell_type": "code",
   "execution_count": 27,
   "metadata": {},
   "outputs": [
    {
     "name": "stdout",
     "output_type": "stream",
     "text": [
      "enter your age3\n",
      "You are free\n"
     ]
    }
   ],
   "source": [
    "\"\"\"\"\n",
    "Question3:\n",
    "A movie theater charges different ticket prices depending on a person’s age. If a person is under the age\n",
    "of 3, the ticket is free; if they are between 3 and 12, the ticket is $10; and if they are over age 12, the\n",
    "ticket is $15. Write a loop in which you ask users their age, and then tell them the cost of their movie\n",
    "ticket. \n",
    "\"\"\"\n",
    "\n",
    "\n",
    "age= int(input(\"enter your age\"));\n",
    "if age <= 3:\n",
    "    print(\"You are free\")\n",
    "elif age> 3 and age<=12 :\n",
    "    print(\"You have to pay 10$\")\n",
    "elif age > 12:\n",
    "    print(\"You have to pay 15$\")\n",
    "else :\n",
    "    print(\"error\")\n"
   ]
  },
  {
   "cell_type": "code",
   "execution_count": 25,
   "metadata": {},
   "outputs": [
    {
     "name": "stdout",
     "output_type": "stream",
     "text": [
      "enter your age6\n",
      "You have to pay 10$\n"
     ]
    }
   ],
   "source": [
    "age= int(input(\"enter your age\"));\n",
    "if age <= 3:\n",
    "    print(\"You are free\")\n",
    "elif age> 3 and age<=12 :\n",
    "    print(\"You have to pay 10$\")\n",
    "elif age > 12:\n",
    "    print(\"You have to pay 15$\")\n",
    "else :\n",
    "    print(\"error\")"
   ]
  },
  {
   "cell_type": "code",
   "execution_count": 26,
   "metadata": {},
   "outputs": [
    {
     "name": "stdout",
     "output_type": "stream",
     "text": [
      "enter your age15\n",
      "You have to pay 15$\n"
     ]
    }
   ],
   "source": [
    "age= int(input(\"enter your age\"));\n",
    "if age <= 3:\n",
    "    print(\"You are free\")\n",
    "elif age> 3 and age<=12 :\n",
    "    print(\"You have to pay 10$\")\n",
    "elif age > 12:\n",
    "    print(\"You have to pay 15$\")\n",
    "else :\n",
    "    print(\"error\")"
   ]
  },
  {
   "cell_type": "code",
   "execution_count": 36,
   "metadata": {},
   "outputs": [
    {
     "name": "stdout",
     "output_type": "stream",
     "text": [
      "Alice is One of my favorite book\n"
     ]
    }
   ],
   "source": [
    "\"\"\"\n",
    "Question4:\n",
    "Write a function called favorite_book() that accepts one parameter, title. The function should print a\n",
    "message, such as One of my favorite books is Alice in Wonderland. Call the function, making sure to\n",
    "include a book title as an argument in the function call.\n",
    "\"\"\"\n",
    "def favorite_book(Name= \"Alice\"):\n",
    "    Reason= \"One of my favorite book\"\n",
    "    Discription= Name + \" is \" + Reason\n",
    "    print(Discription)\n",
    "\n",
    "favorite_book()"
   ]
  },
  {
   "cell_type": "code",
   "execution_count": 18,
   "metadata": {},
   "outputs": [
    {
     "ename": "SyntaxError",
     "evalue": "invalid syntax (<ipython-input-18-f716bef4e4cd>, line 10)",
     "output_type": "error",
     "traceback": [
      "\u001b[1;36m  File \u001b[1;32m\"<ipython-input-18-f716bef4e4cd>\"\u001b[1;36m, line \u001b[1;32m10\u001b[0m\n\u001b[1;33m    I am unable to generate such a huge code right now.\u001b[0m\n\u001b[1;37m       ^\u001b[0m\n\u001b[1;31mSyntaxError\u001b[0m\u001b[1;31m:\u001b[0m invalid syntax\n"
     ]
    }
   ],
   "source": [
    "\"\"\"\n",
    "Question5:\n",
    "Guess the number game\n",
    "Write a program which randomly generate a number between 1 to 30 and ask the user in input field to\n",
    "guess the correct number. Give three chances to user guess the number and also give hint to user if\n",
    "hidden number is greater or smaller than the number he given to input field.\n",
    "\"\"\"\n",
    "\n",
    "\n",
    "I am unable to generate such a huge code right now.\n"
   ]
  },
  {
   "cell_type": "code",
   "execution_count": null,
   "metadata": {},
   "outputs": [],
   "source": []
  }
 ],
 "metadata": {
  "kernelspec": {
   "display_name": "Python 3",
   "language": "python",
   "name": "python3"
  },
  "language_info": {
   "codemirror_mode": {
    "name": "ipython",
    "version": 3
   },
   "file_extension": ".py",
   "mimetype": "text/x-python",
   "name": "python",
   "nbconvert_exporter": "python",
   "pygments_lexer": "ipython3",
   "version": "3.7.4"
  }
 },
 "nbformat": 4,
 "nbformat_minor": 2
}
