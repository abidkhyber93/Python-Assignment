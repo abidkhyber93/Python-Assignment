{
 "cells": [
  {
   "cell_type": "code",
   "execution_count": 1,
   "metadata": {},
   "outputs": [
    {
     "name": "stdout",
     "output_type": "stream",
     "text": [
      "Twinkle, twinkle, little star,How I wonder what you are!Up above the world so high,Like a diamond in the sky.Twinkle, twinkle, little star,How I wonder what you are\n"
     ]
    }
   ],
   "source": [
    "first= \"Twinkle, twinkle, little star,\"\n",
    "second= \"How I wonder what you are!\"\n",
    "third= \"Up above the world so high,\"\n",
    "fourth= \"Like a diamond in the sky.\"\n",
    "fifth= \"Twinkle, twinkle, little star,\"\n",
    "sixth= \"How I wonder what you are\"\n",
    "print(first+second +third+fourth+fifth+sixth)\n"
   ]
  },
  {
   "cell_type": "code",
   "execution_count": 4,
   "metadata": {},
   "outputs": [
    {
     "name": "stdout",
     "output_type": "stream",
     "text": [
      "Python 3.7\n"
     ]
    }
   ],
   "source": [
    "version= \"Python 3.7\"\n",
    "print(version)"
   ]
  },
  {
   "cell_type": "code",
   "execution_count": 5,
   "metadata": {},
   "outputs": [
    {
     "name": "stdout",
     "output_type": "stream",
     "text": [
      "31-Oct-2019 10:50pm\n"
     ]
    }
   ],
   "source": [
    "current_date = \"31-Oct-2019\"\n",
    "current_time = \"10:50pm\"\n",
    "print(current_date +\" \"+ current_time)"
   ]
  },
  {
   "cell_type": "code",
   "execution_count": 9,
   "metadata": {},
   "outputs": [
    {
     "name": "stdout",
     "output_type": "stream",
     "text": [
      "Enter your value4\n",
      "50.285714285714285\n"
     ]
    }
   ],
   "source": [
    "π = 22/7\n",
    "r = input(\"Enter your value\")\n",
    "A = π*int(r)*int(r)\n",
    "print(A)"
   ]
  },
  {
   "cell_type": "code",
   "execution_count": 10,
   "metadata": {},
   "outputs": [
    {
     "name": "stdout",
     "output_type": "stream",
     "text": [
      "Abid Muhammad\n"
     ]
    }
   ],
   "source": [
    "first_name = \"Muhammad\"\n",
    "last_name = \"Abid\"\n",
    "print(last_name+\" \"+first_name)"
   ]
  },
  {
   "cell_type": "code",
   "execution_count": 12,
   "metadata": {},
   "outputs": [
    {
     "name": "stdout",
     "output_type": "stream",
     "text": [
      "20\n"
     ]
    }
   ],
   "source": [
    "x = 5\n",
    "y= 15\n",
    "z= x+y\n",
    "print(z)"
   ]
  },
  {
   "cell_type": "code",
   "execution_count": null,
   "metadata": {},
   "outputs": [],
   "source": []
  }
 ],
 "metadata": {
  "kernelspec": {
   "display_name": "Python 3",
   "language": "python",
   "name": "python3"
  },
  "language_info": {
   "codemirror_mode": {
    "name": "ipython",
    "version": 3
   },
   "file_extension": ".py",
   "mimetype": "text/x-python",
   "name": "python",
   "nbconvert_exporter": "python",
   "pygments_lexer": "ipython3",
   "version": "3.7.4"
  }
 },
 "nbformat": 4,
 "nbformat_minor": 2
}
