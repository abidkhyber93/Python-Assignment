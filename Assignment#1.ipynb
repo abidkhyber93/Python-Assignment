{
 "cells": [
  {
   "cell_type": "code",
   "execution_count": 1,
   "metadata": {},
   "outputs": [
    {
     "name": "stdout",
     "output_type": "stream",
     "text": [
      "Twinkle, twinkle, little star,How I wonder what you are!Up above the world so high,Like a diamond in the sky.Twinkle, twinkle, little star,How I wonder what you are\n"
     ]
    }
   ],
   "source": [
    "first= \"Twinkle, twinkle, little star,\"\n",
    "second= \"How I wonder what you are!\"\n",
    "third= \"Up above the world so high,\"\n",
    "fourth= \"Like a diamond in the sky.\"\n",
    "fifth= \"Twinkle, twinkle, little star,\"\n",
    "sixth= \"How I wonder what you are\"\n",
    "print(first+second +third+fourth+fifth+sixth)"
   ]
  },
  {
   "cell_type": "code",
   "execution_count": 2,
   "metadata": {},
   "outputs": [
    {
     "name": "stdout",
     "output_type": "stream",
     "text": [
      "Python 3.7\n"
     ]
    }
   ],
   "source": [
    "version= \"Python 3.7\"\n",
    "print(version)"
   ]
  },
  {
   "cell_type": "code",
   "execution_count": 21,
   "metadata": {},
   "outputs": [
    {
     "name": "stdout",
     "output_type": "stream",
     "text": [
      "3-Nov-2019,05:40pm\n"
     ]
    }
   ],
   "source": [
    "current_date = \"3-Nov-2019\"\n",
    "current_time = \"05:40pm\"\n",
    "print(current_date +\",\"+ current_time)\n"
   ]
  },
  {
   "cell_type": "code",
   "execution_count": 22,
   "metadata": {},
   "outputs": [
    {
     "name": "stdout",
     "output_type": "stream",
     "text": [
      "Enter your value5\n",
      "78.57142857142857\n"
     ]
    }
   ],
   "source": [
    "\"\"\"\"\n",
    "Let\n",
    "Radius= r= 4\n",
    "π = 22/7\n",
    "Area= A= πr2\n",
    "Enter value = 5\n",
    "\n",
    "\"\"\"\n",
    "π= 22/7\n",
    "r =input(\"Enter your value\")\n",
    "A = π*int(r)*int(r)\n",
    "print(A)\n",
    "\n"
   ]
  },
  {
   "cell_type": "code",
   "execution_count": 19,
   "metadata": {},
   "outputs": [
    {
     "name": "stdout",
     "output_type": "stream",
     "text": [
      "Abid Muhammad\n"
     ]
    }
   ],
   "source": [
    "first_name = \"Muhammad\"\n",
    "last_name = \"Abid\"\n",
    "print(last_name+\" \"+first_name)\n"
   ]
  },
  {
   "cell_type": "code",
   "execution_count": 20,
   "metadata": {},
   "outputs": [
    {
     "name": "stdout",
     "output_type": "stream",
     "text": [
      "20\n"
     ]
    }
   ],
   "source": [
    "x = 5\n",
    "y= 15\n",
    "z= x+y\n",
    "print(z)\n"
   ]
  },
  {
   "cell_type": "code",
   "execution_count": null,
   "metadata": {},
   "outputs": [],
   "source": []
  }
 ],
 "metadata": {
  "kernelspec": {
   "display_name": "Python 3",
   "language": "python",
   "name": "python3"
  },
  "language_info": {
   "codemirror_mode": {
    "name": "ipython",
    "version": 3
   },
   "file_extension": ".py",
   "mimetype": "text/x-python",
   "name": "python",
   "nbconvert_exporter": "python",
   "pygments_lexer": "ipython3",
   "version": "3.7.4"
  }
 },
 "nbformat": 4,
 "nbformat_minor": 2
}
