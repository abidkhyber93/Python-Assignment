{
 "cells": [
  {
   "cell_type": "code",
   "execution_count": 1,
   "metadata": {},
   "outputs": [
    {
     "name": "stdout",
     "output_type": "stream",
     "text": [
      "enter first value56\n",
      "enter second value43\n",
      "enter operator-\n",
      "13 answer\n"
     ]
    }
   ],
   "source": [
    "\n",
    "#1. Make a calculator using Python with addition , subtraction , multiplication ,division and power.\n",
    "\n",
    "val1 = input('enter first value')\n",
    "val2 = input('enter second value')\n",
    "operator = input('enter operator')\n",
    "val1= int(val1)\n",
    "val2= int(val2)\n",
    "if operator == '+':\n",
    "    val = val1+val2\n",
    "    print(val, 'answer')\n",
    "elif operator == '-':\n",
    "    val= val1-val2\n",
    "    print(val, 'answer')\n",
    "elif operator == '*':\n",
    "    val= val1*val2\n",
    "    print(val, 'answer')\n",
    "elif operator == '/':\n",
    "    val= val1/al2\n",
    "    print(val, 'answer')"
   ]
  },
  {
   "cell_type": "code",
   "execution_count": 2,
   "metadata": {},
   "outputs": [
    {
     "name": "stdout",
     "output_type": "stream",
     "text": [
      "Enter the string'a,b,c'\n"
     ]
    },
    {
     "ename": "NameError",
     "evalue": "name 'string' is not defined",
     "output_type": "error",
     "traceback": [
      "\u001b[1;31m---------------------------------------------------------------------------\u001b[0m",
      "\u001b[1;31mNameError\u001b[0m                                 Traceback (most recent call last)",
      "\u001b[1;32m<ipython-input-2-ab2ed24429cf>\u001b[0m in \u001b[0;36m<module>\u001b[1;34m\u001b[0m\n\u001b[0;32m      3\u001b[0m \u001b[0mcount1\u001b[0m\u001b[1;33m=\u001b[0m \u001b[1;36m0\u001b[0m\u001b[1;33m\u001b[0m\u001b[1;33m\u001b[0m\u001b[0m\n\u001b[0;32m      4\u001b[0m \u001b[0mCount2\u001b[0m\u001b[1;33m=\u001b[0m \u001b[1;36m0\u001b[0m\u001b[1;33m\u001b[0m\u001b[1;33m\u001b[0m\u001b[0m\n\u001b[1;32m----> 5\u001b[1;33m \u001b[1;32mfor\u001b[0m \u001b[0mi\u001b[0m \u001b[1;32min\u001b[0m \u001b[0mstring\u001b[0m\u001b[1;33m:\u001b[0m\u001b[1;33m\u001b[0m\u001b[1;33m\u001b[0m\u001b[0m\n\u001b[0m\u001b[0;32m      6\u001b[0m     \u001b[1;32mif\u001b[0m\u001b[1;33m(\u001b[0m\u001b[0mi\u001b[0m\u001b[1;33m.\u001b[0m\u001b[0misdigit\u001b[0m\u001b[1;33m(\u001b[0m\u001b[1;33m)\u001b[0m\u001b[1;33m)\u001b[0m\u001b[1;33m:\u001b[0m\u001b[1;33m\u001b[0m\u001b[1;33m\u001b[0m\u001b[0m\n\u001b[0;32m      7\u001b[0m         \u001b[0mcount1\u001b[0m\u001b[1;33m=\u001b[0m \u001b[0mcount1\u001b[0m\u001b[1;33m+\u001b[0m\u001b[1;36m1\u001b[0m\u001b[1;33m\u001b[0m\u001b[1;33m\u001b[0m\u001b[0m\n",
      "\u001b[1;31mNameError\u001b[0m: name 'string' is not defined"
     ]
    }
   ],
   "source": [
    "#2. Write a program to check if there is any numeric value in list using for loop\n",
    "String= input(\"Enter the string\")\n",
    "count1= 0\n",
    "Count2= 0\n",
    "for i in string:\n",
    "    if(i.isdigit()):\n",
    "        count1= count1+1\n",
    "        count2= count2+1\n",
    "print(\"The number of digit is: \")\n",
    "print(count1)\n",
    "print(\"The number of characters is: \")\n",
    "print(count2)"
   ]
  },
  {
   "cell_type": "code",
   "execution_count": 3,
   "metadata": {},
   "outputs": [
    {
     "name": "stdout",
     "output_type": "stream",
     "text": [
      "{'First Name': 'Muhammad', 'Lastname': 'Abid', 'Address': 'Karachi.'}\n"
     ]
    }
   ],
   "source": [
    "#3. Write a Python script to add a key to a dictionary\n",
    "\n",
    "Student = {\n",
    "    \"First Name\": \"Muhammad\", \n",
    "    \"Lastname\": \"Abid\", \n",
    "    \"Address\": \"Karachi.\"}\n",
    "print(Student)"
   ]
  },
  {
   "cell_type": "code",
   "execution_count": 4,
   "metadata": {},
   "outputs": [
    {
     "name": "stdout",
     "output_type": "stream",
     "text": [
      "{'First Name': 'Muhammad', 'Lastname': 'Abid', 'Address': 'Karachi.', 'Cell No': 923445420619}\n"
     ]
    }
   ],
   "source": [
    "#Now We will add a key in dictionary\n",
    "Student[\"Cell No\"] = 923445420619\n",
    "print(Student)"
   ]
  },
  {
   "cell_type": "code",
   "execution_count": 5,
   "metadata": {},
   "outputs": [
    {
     "name": "stdout",
     "output_type": "stream",
     "text": [
      "{'Abid': 15000, 'Ali': 18000, 'Usman': 12000}\n",
      "Total Salaries = 45000\n"
     ]
    }
   ],
   "source": [
    "#4. Write a Python program to sum all the numeric items in a dictionary\n",
    "Salary_details = {\n",
    "    \"Abid\": 15000, \n",
    "    \"Ali\": 18000, \n",
    "    \"Usman\": 12000}\n",
    "print(Salary_details)\n",
    "Total= sum(Salary_details.values())\n",
    "print(\"Total Salaries =\", Total)"
   ]
  },
  {
   "cell_type": "code",
   "execution_count": 6,
   "metadata": {},
   "outputs": [
    {
     "name": "stdout",
     "output_type": "stream",
     "text": [
      "Duplicates of this digits are = 3\n"
     ]
    }
   ],
   "source": [
    "#5. Write a program to identify duplicate values from list\n",
    "#We have to put the digit in the brackets ie [Print(lst.coun(put the digit here to find its duplicate quantity))]\n",
    "arr = ['a', 'b', 'c',1,2,3,4,5,6,7,5,4,4,6,6,8,8,9,8]\n",
    "print(\"Duplicates of this digits are =\", arr.count(4))"
   ]
  },
  {
   "cell_type": "code",
   "execution_count": 7,
   "metadata": {},
   "outputs": [
    {
     "name": "stdout",
     "output_type": "stream",
     "text": [
      "Duplicates of this digits are = 5\n"
     ]
    }
   ],
   "source": [
    "#Similarly,\n",
    "arr = ['a', 'b', 'c',1,2,3,4,5,6,7,5,4,4,6,6,8,8,9,8,2,8,2,8]\n",
    "print(\"Duplicates of this digits are =\", arr.count(8))"
   ]
  },
  {
   "cell_type": "code",
   "execution_count": 8,
   "metadata": {},
   "outputs": [
    {
     "name": "stdout",
     "output_type": "stream",
     "text": [
      "Enter the key to be addedAbid\n",
      "key is present in dictionary\n",
      "value : 15000\n"
     ]
    }
   ],
   "source": [
    "#6. Write a Python script to check if a given key already exists in a dictionary.\n",
    "Salary_details = {\n",
    "    \"Abid\": 15000, \n",
    "    \"Ali\": 18000, \n",
    "    \"Usman\": 12000}\n",
    "key_to_be_added=input(\"Enter the key to be added\")\n",
    "if key_to_be_added in Salary_details.keys():\n",
    "    print(\"key is present in dictionary\")\n",
    "    print(\"value\", ':', Salary_details[key_to_be_added])\n",
    "else:\n",
    "    print(\"key does not in dictionary\")"
   ]
  },
  {
   "cell_type": "code",
   "execution_count": 9,
   "metadata": {},
   "outputs": [
    {
     "name": "stdout",
     "output_type": "stream",
     "text": [
      "Enter the key to be addedFarooq\n",
      "key does not in dictionary\n"
     ]
    }
   ],
   "source": [
    "#Similarly\n",
    "Salary_details = {\n",
    "    \"Abid\": 15000, \n",
    "    \"Ali\": 18000, \n",
    "    \"Usman\": 12000}\n",
    "key_to_be_added=input(\"Enter the key to be added\")\n",
    "if key_to_be_added in Salary_details.keys():\n",
    "    print(\"key is present in dictionary\")\n",
    "    print(\"value\", ':', Salary_details[key_to_be_added])\n",
    "else:\n",
    "    print(\"key does not in dictionary\")"
   ]
  },
  {
   "cell_type": "code",
   "execution_count": null,
   "metadata": {},
   "outputs": [],
   "source": []
  },
  {
   "cell_type": "code",
   "execution_count": null,
   "metadata": {},
   "outputs": [],
   "source": []
  }
 ],
 "metadata": {
  "kernelspec": {
   "display_name": "Python 3",
   "language": "python",
   "name": "python3"
  },
  "language_info": {
   "codemirror_mode": {
    "name": "ipython",
    "version": 3
   },
   "file_extension": ".py",
   "mimetype": "text/x-python",
   "name": "python",
   "nbconvert_exporter": "python",
   "pygments_lexer": "ipython3",
   "version": "3.7.4"
  }
 },
 "nbformat": 4,
 "nbformat_minor": 2
}
